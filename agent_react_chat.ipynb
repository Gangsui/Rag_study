{
 "cells": [
  {
   "cell_type": "code",
   "execution_count": 9,
   "id": "c86bec83",
   "metadata": {},
   "outputs": [],
   "source": [
    "import os\n",
    "import json\n",
    "import re\n",
    "from dotenv import load_dotenv\n",
    "from openai import AzureOpenAI, OpenAIError\n",
    "\n",
    "load_dotenv()  # .env 파일에 있는 환경변수 로드\n",
    "\n",
    "aoi_api_key = os.getenv(\"AZURE_OPENAI_API_KEY\")\n",
    "aoi_endpoint = os.getenv(\"AZURE_OPENAI_ENDPOINT\")\n",
    "aoi_gen_model = os.getenv(\"AZURE_GENERATION_MODEL\")\n",
    "aoi_version = os.getenv(\"AZURE_GENERATION_MODEL_VERSION\")\n",
    "client = AzureOpenAI(azure_endpoint=aoi_endpoint,api_key=aoi_api_key, api_version=aoi_version)\n"
   ]
  },
  {
   "cell_type": "code",
   "execution_count": 10,
   "id": "bfcaf917",
   "metadata": {},
   "outputs": [],
   "source": [
    "from langchain import hub\n",
    "from langchain.agents import AgentExecutor, create_openai_functions_agent\n",
    "from langchain.agents import Tool,  create_react_agent\n",
    "from openai import AzureOpenAI, OpenAIError\n"
   ]
  },
  {
   "cell_type": "code",
   "execution_count": 49,
   "id": "93efc12f",
   "metadata": {},
   "outputs": [
    {
     "name": "stderr",
     "output_type": "stream",
     "text": [
      "c:\\Users\\박윤서\\.conda\\envs\\selenium_env\\lib\\site-packages\\langsmith\\client.py:272: LangSmithMissingAPIKeyWarning: API key must be provided when using hosted LangSmith API\n",
      "  warnings.warn(\n"
     ]
    }
   ],
   "source": [
    "from langchain_openai import AzureChatOpenAI\n",
    "\n",
    "def get_current_time(*args, **kwargs):\n",
    "    \"\"\"Get the current time.\"\"\"\n",
    "    from datetime import datetime\n",
    "    return datetime.now().strftime(\"%Y-%m-%d %H:%M:%S\")\n",
    "\n",
    "def search_wikipedia(query):\n",
    "    \"\"\"Search Wikipedia for a given query.\"\"\"\n",
    "    import wikipedia\n",
    "    try:\n",
    "        results = wikipedia.summary(query,sentences=2)\n",
    "        return results\n",
    "    except Exception as e:\n",
    "        return f\"Error: {str(e)}\"  # 항상 문자열 반환\n",
    "\n",
    "tools= [\n",
    "    Tool(\n",
    "        name=\"get_current_time\",\n",
    "        func=get_current_time,\n",
    "        description=\"Useful for when you need to get the current time.\"\n",
    "    ),\n",
    "    Tool(\n",
    "        name=\"search_wikipedia\",\n",
    "        func=search_wikipedia,\n",
    "        description=\"Useful for when you need to summarize on Wikipedia.\"\n",
    "    ),\n",
    "\n",
    "]\n",
    "\n",
    "# LLM with function call\n",
    "llm = AzureChatOpenAI(\n",
    "    azure_endpoint=aoi_endpoint,\n",
    "    api_key=aoi_api_key, \n",
    "    api_version=aoi_version,\n",
    "    deployment_name=aoi_gen_model\n",
    ")\n",
    "prompt = hub.pull(\"hwchase17/structured-chat-agent\")"
   ]
  },
  {
   "cell_type": "code",
   "execution_count": 50,
   "id": "197a6f34",
   "metadata": {},
   "outputs": [],
   "source": [
    "from langchain .memory import ConversationBufferMemory\n",
    "memory = ConversationBufferMemory(memory_key=\"chat_history\", return_messages=True,)"
   ]
  },
  {
   "cell_type": "code",
   "execution_count": 47,
   "id": "c01dfa43",
   "metadata": {},
   "outputs": [],
   "source": [
    "agent = create_react_agent(llm, tools=tools, prompt=prompt)\n",
    "agent_excutor = AgentExecutor(\n",
    "    agent=agent,\n",
    "    tools=tools,\n",
    "    verbose=True,\n",
    "    memory=memory,\n",
    "    handle_parsing_errors=True\n",
    ")"
   ]
  },
  {
   "cell_type": "code",
   "execution_count": 48,
   "id": "0de33737",
   "metadata": {},
   "outputs": [
    {
     "name": "stdout",
     "output_type": "stream",
     "text": [
      "\n",
      "\n",
      "\u001b[1m> Entering new AgentExecutor chain...\u001b[0m\n",
      "\u001b[32;1m\u001b[1;3m{\n",
      "  \"action\": \"search_wikipedia\",\n",
      "  \"action_input\": \"Steve Jobs\"\n",
      "}\u001b[0mInvalid Format: Missing 'Action:' after 'Thought:'\u001b[32;1m\u001b[1;3m{\n",
      "  \"action\": \"search_wikipedia\",\n",
      "  \"action_input\": \"Steve Jobs\"\n",
      "}\u001b[0mInvalid Format: Missing 'Action:' after 'Thought:'\u001b[32;1m\u001b[1;3m{\n",
      "  \"action\": \"search_wikipedia\",\n",
      "  \"action_input\": \"Steve Jobs\"\n",
      "}\u001b[0mInvalid Format: Missing 'Action:' after 'Thought:'\u001b[32;1m\u001b[1;3mAction:\n",
      "```\n",
      "{\n",
      "  \"action\": \"search_wikipedia\",\n",
      "  \"action_input\": \"Steve Jobs\"\n",
      "}\n",
      "```\u001b[0mInvalid Format: Missing 'Action Input:' after 'Action:'\u001b[32;1m\u001b[1;3m{\n",
      "  \"action\": \"search_wikipedia\",\n",
      "  \"action_input\": \"Steve Jobs\"\n",
      "}\u001b[0mInvalid Format: Missing 'Action:' after 'Thought:'\u001b[32;1m\u001b[1;3m{\n",
      "  \"action\": \"search_wikipedia\",\n",
      "  \"action_input\": \"Steve Jobs\"\n",
      "}\u001b[0mInvalid Format: Missing 'Action:' after 'Thought:'\u001b[32;1m\u001b[1;3m{\n",
      "  \"action\": \"search_wikipedia\",\n",
      "  \"action_input\": \"Steve Jobs\"\n",
      "}\u001b[0mInvalid Format: Missing 'Action:' after 'Thought:'\u001b[32;1m\u001b[1;3m{\n",
      "  \"action\": \"search_wikipedia\",\n",
      "  \"action_input\": \"Steve Jobs\"\n",
      "}\u001b[0mInvalid Format: Missing 'Action:' after 'Thought:'\u001b[32;1m\u001b[1;3m{\n",
      "  \"action\": \"search_wikipedia\",\n",
      "  \"action_input\": \"Steve Jobs\"\n",
      "}\u001b[0mInvalid Format: Missing 'Action:' after 'Thought:'\u001b[32;1m\u001b[1;3m{\n",
      "  \"action\": \"search_wikipedia\",\n",
      "  \"action_input\": \"Steve Jobs\"\n",
      "}\u001b[0mInvalid Format: Missing 'Action:' after 'Thought:'\u001b[32;1m\u001b[1;3m{\n",
      "  \"action\": \"search_wikipedia\",\n",
      "  \"action_input\": \"Steve Jobs\"\n",
      "}\u001b[0mInvalid Format: Missing 'Action:' after 'Thought:'\u001b[32;1m\u001b[1;3mAction:\n",
      "```\n",
      "{\n",
      "  \"action\": \"search_wikipedia\",\n",
      "  \"action_input\": \"Steve Jobs\"\n",
      "}\n",
      "```\u001b[0mInvalid Format: Missing 'Action Input:' after 'Action:'\u001b[32;1m\u001b[1;3mAction:\n",
      "```\n",
      "{\n",
      "  \"action\": \"search_wikipedia\",\n",
      "  \"action_input\": \"Steve Jobs\"\n",
      "}\n",
      "```\u001b[0mInvalid Format: Missing 'Action Input:' after 'Action:'\u001b[32;1m\u001b[1;3m{\n",
      "  \"action\": \"search_wikipedia\",\n",
      "  \"action_input\": \"Steve Jobs\"\n",
      "}\u001b[0mInvalid Format: Missing 'Action:' after 'Thought:'\u001b[32;1m\u001b[1;3mAction:\n",
      "```\n",
      "{\n",
      "  \"action\": \"search_wikipedia\",\n",
      "  \"action_input\": \"Steve Jobs\"\n",
      "}\n",
      "```\u001b[0mInvalid Format: Missing 'Action Input:' after 'Action:'\u001b[32;1m\u001b[1;3m\u001b[0m\n",
      "\n",
      "\u001b[1m> Finished chain.\u001b[0m\n",
      "Assistant: Agent stopped due to iteration limit or time limit.\n"
     ]
    }
   ],
   "source": [
    "from langchain_core.messages import HumanMessage, AIMessage\n",
    "while True:\n",
    "    user_input = input(\"User: \")\n",
    "    if user_input.lower() == \"exit\":\n",
    "        break\n",
    "\n",
    "    memory.chat_memory.add_user_message(HumanMessage(content=user_input))\n",
    "\n",
    "    response = agent_excutor.invoke({\"input\": user_input})\n",
    "    print(\"Assistant:\", response['output'])\n",
    "    memory.chat_memory.add_ai_message(AIMessage(content = response['output']))"
   ]
  }
 ],
 "metadata": {
  "kernelspec": {
   "display_name": "selenium_env",
   "language": "python",
   "name": "python3"
  },
  "language_info": {
   "codemirror_mode": {
    "name": "ipython",
    "version": 3
   },
   "file_extension": ".py",
   "mimetype": "text/x-python",
   "name": "python",
   "nbconvert_exporter": "python",
   "pygments_lexer": "ipython3",
   "version": "3.9.21"
  }
 },
 "nbformat": 4,
 "nbformat_minor": 5
}
