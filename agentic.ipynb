{
 "cells": [
  {
   "cell_type": "code",
   "execution_count": 1,
   "id": "c86bec83",
   "metadata": {},
   "outputs": [],
   "source": [
    "import os\n",
    "import json\n",
    "import re\n",
    "from dotenv import load_dotenv\n",
    "from openai import AzureOpenAI, OpenAIError\n",
    "\n",
    "load_dotenv()  # .env 파일에 있는 환경변수 로드\n",
    "\n",
    "aoi_api_key = os.getenv(\"AZURE_OPENAI_API_KEY\")\n",
    "aoi_endpoint = os.getenv(\"AZURE_OPENAI_ENDPOINT\")\n",
    "aoi_gen_model = os.getenv(\"AZURE_GENERATION_MODEL\")\n",
    "aoi_version = os.getenv(\"AZURE_GENERATION_MODEL_VERSION\")\n",
    "client = AzureOpenAI(azure_endpoint=aoi_endpoint,api_key=aoi_api_key, api_version=aoi_version)\n"
   ]
  },
  {
   "cell_type": "code",
   "execution_count": 6,
   "id": "bfcaf917",
   "metadata": {},
   "outputs": [],
   "source": [
    "from langchain import hub\n",
    "from langchain.agents import AgentExecutor, create_openai_functions_agent\n",
    "from langchain.agents import Tool,  create_react_agent\n",
    "from openai import AzureOpenAI, OpenAIError\n"
   ]
  },
  {
   "cell_type": "code",
   "execution_count": null,
   "id": "93efc12f",
   "metadata": {},
   "outputs": [],
   "source": [
    "from langchain_openai import AzureChatOpenAI\n",
    "\n",
    "def get_current_time(*args, **kwargs):\n",
    "    \"\"\"Get the current time.\"\"\"\n",
    "    from datetime import datetime\n",
    "    return datetime.now().strftime(\"%Y-%m-%d %H:%M:%S\")\n",
    "\n",
    "\n",
    "tools= [\n",
    "    Tool(\n",
    "        name=\"get_current_time\",\n",
    "        func=get_current_time,\n",
    "        description=\"Useful for when you need to get the current time.\"\n",
    "    ),\n",
    "]\n",
    "\n",
    "# LLM with function call\n",
    "llm = AzureChatOpenAI(\n",
    "    azure_endpoint=aoi_endpoint,\n",
    "    api_key=aoi_api_key, \n",
    "    api_version=aoi_version,\n",
    "    deployment_name=aoi_gen_model\n",
    ")\n",
    "prompt = hub.pull(\"hwchase17/react\")"
   ]
  },
  {
   "cell_type": "code",
   "execution_count": 14,
   "id": "3927fced",
   "metadata": {},
   "outputs": [],
   "source": [
    "agent = create_react_agent(llm, tools=tools,prompt=prompt,stop_sequence=True)"
   ]
  },
  {
   "cell_type": "code",
   "execution_count": 17,
   "id": "81b762b5",
   "metadata": {},
   "outputs": [],
   "source": [
    "agent_excutor = AgentExecutor(agent=agent, tools=tools, verbose=True)"
   ]
  },
  {
   "cell_type": "code",
   "execution_count": 16,
   "id": "5f45f3a6",
   "metadata": {},
   "outputs": [
    {
     "name": "stdout",
     "output_type": "stream",
     "text": [
      "\n",
      "\n",
      "\u001b[1m> Entering new AgentExecutor chain...\u001b[0m\n",
      "\u001b[32;1m\u001b[1;3mI need to determine the current time.\n",
      "Action: get_current_time\n",
      "Action Input: None\u001b[0m\u001b[36;1m\u001b[1;3m2025-05-07 12:22:00\u001b[0m\u001b[32;1m\u001b[1;3mI now know the final answer.\n",
      "Final Answer: The current time is 2025-05-07 12:22:00.\u001b[0m\n",
      "\n",
      "\u001b[1m> Finished chain.\u001b[0m\n",
      "The current time is 2025-05-07 12:22:00.\n"
     ]
    }
   ],
   "source": [
    "reponse = agent_excutor.invoke({\"input\": \"What is the current time?\"})\n",
    "print(reponse['output'])"
   ]
  },
  {
   "cell_type": "markdown",
   "id": "c94a5253",
   "metadata": {},
   "source": [
    "REact 방식으로 작성함\n",
    "prompt :\"PromptTemplate(\n",
    "    input_variables=['agent_scratchpad', 'input', 'tool_names', 'tools'],  # 템플릿에 들어갈 변수들\n",
    "    input_types={},  # 각 변수의 타입을 지정 (여기서는 비어 있음)\n",
    "    partial_variables={},  # 템플릿의 일부 변수를 미리 채워둘 때 사용 (여기서는 비어 있음)\n",
    "    metadata={  # 템플릿에 대한 메타데이터\n",
    "        'lc_hub_owner': 'hwchase17',  # LangChain Hub의 소유자 (LangChain 개발자)\n",
    "        'lc_hub_repo': 'react',      # LangChain Hub의 레포지토리 이름 (ReAct 에이전트 관련)\n",
    "        'lc_hub_commit_hash': 'd15fe3c426f1c4b3f37c9198853e4a86e20c425ca7f4752ec0c9b0e97ca7ea4d'  # 특정 커밋 해시\n",
    "    },\n",
    "    template='''Answer the following questions as best you can. You have access to the following tools:\n",
    "\n",
    "{tools}\n",
    "\n",
    "Use the following format:\n",
    "\n",
    "Question: the input question you must answer\n",
    "Thought: you should always think about what to do\n",
    "Action: the action to take, should be one of [{tool_names}]\n",
    "Action Input: the input to the action\n",
    "Observation: the result of the action\n",
    "... (this Thought/Action/Action Input/Observation can repeat N times)\n",
    "Thought: I now know the final answer\n",
    "Final Answer: the final answer to the original input question\n",
    "\n",
    "Begin!\n",
    "\n",
    "Question: {input}\n",
    "Thought:{agent_scratchpad}'''  # 실제 LLM에게 전달될 프롬프트의 구조\n",
    ")\""
   ]
  }
 ],
 "metadata": {
  "kernelspec": {
   "display_name": "selenium_env",
   "language": "python",
   "name": "python3"
  },
  "language_info": {
   "codemirror_mode": {
    "name": "ipython",
    "version": 3
   },
   "file_extension": ".py",
   "mimetype": "text/x-python",
   "name": "python",
   "nbconvert_exporter": "python",
   "pygments_lexer": "ipython3",
   "version": "3.9.21"
  }
 },
 "nbformat": 4,
 "nbformat_minor": 5
}
